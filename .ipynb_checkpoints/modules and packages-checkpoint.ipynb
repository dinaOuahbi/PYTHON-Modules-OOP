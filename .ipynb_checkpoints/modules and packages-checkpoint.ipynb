{
 "cells": [
  {
   "cell_type": "markdown",
   "id": "01ca328b",
   "metadata": {},
   "source": [
    "MODULES AND PACKAGES : INTRO\n",
    "\n",
    "- File is a module\n",
    "\n",
    "- So we can create a module that contains specific functions that we have created before \n",
    "\n",
    "- Then we could import this module into our project to use its functions \n",
    "\n",
    "- _pycach_  : added to current directory whene we import our module, it will create connections between modules\n",
    "\n",
    "- From module_1 import * : import all functions\n",
    "\n",
    "- The basic modules of python : https://docs.python.org/3/py-modindex.html\n",
    "\n",
    "- Package is a library of several modules\n",
    "\n",
    "- W'll see some of them : math / stat / random / glob / os "
   ]
  },
  {
   "cell_type": "code",
   "execution_count": 16,
   "id": "948f3387",
   "metadata": {},
   "outputs": [],
   "source": [
    "#create my own module\n",
    "! touch m_1.py"
   ]
  },
  {
   "cell_type": "code",
   "execution_count": 17,
   "id": "185d772b",
   "metadata": {},
   "outputs": [
    {
     "name": "stdout",
     "output_type": "stream",
     "text": [
      "Untitled.ipynb\n",
      "m_1.py\n"
     ]
    }
   ],
   "source": [
    "! ls"
   ]
  },
  {
   "cell_type": "code",
   "execution_count": 19,
   "id": "56874ddf",
   "metadata": {},
   "outputs": [],
   "source": [
    "import m_1 "
   ]
  },
  {
   "cell_type": "code",
   "execution_count": 56,
   "id": "980d2779",
   "metadata": {},
   "outputs": [],
   "source": [
    "list_1 = m_1.fibonacci(100)"
   ]
  },
  {
   "cell_type": "markdown",
   "id": "2bf9455b",
   "metadata": {},
   "source": [
    "# Math & statistics"
   ]
  },
  {
   "cell_type": "code",
   "execution_count": 26,
   "id": "ad9a7387",
   "metadata": {},
   "outputs": [
    {
     "name": "stdout",
     "output_type": "stream",
     "text": [
      "3.141592653589793\n",
      "index 4  ==>  3\n",
      "-0.9899924966004454\n",
      "20.085536923187668\n"
     ]
    }
   ],
   "source": [
    "import math \n",
    "print(math.pi)\n",
    "print('index 4  ==> ',list_1[4])\n",
    "print(math.cos(list_1[4]))\n",
    "print(math.exp(list_1[4]))"
   ]
  },
  {
   "cell_type": "code",
   "execution_count": 31,
   "id": "718ee796",
   "metadata": {},
   "outputs": [
    {
     "name": "stdout",
     "output_type": "stream",
     "text": [
      "19.333333333333332\n",
      "757.3333333333334\n"
     ]
    }
   ],
   "source": [
    "import statistics as stat\n",
    "print(stat.mean(list_1))\n",
    "print(stat.variance(list_1))"
   ]
  },
  {
   "cell_type": "markdown",
   "id": "dfbf9f4c",
   "metadata": {},
   "source": [
    "# Random"
   ]
  },
  {
   "cell_type": "code",
   "execution_count": 36,
   "id": "10e64e36",
   "metadata": {},
   "outputs": [
    {
     "data": {
      "text/plain": [
       "21"
      ]
     },
     "execution_count": 36,
     "metadata": {},
     "output_type": "execute_result"
    }
   ],
   "source": [
    "import random\n",
    "#generer des nb aleatoie, des listes aleatoires ...\n",
    "random.choice(list_1) #tir un nb au hasard de la liste"
   ]
  },
  {
   "cell_type": "code",
   "execution_count": 37,
   "id": "14c1e255",
   "metadata": {},
   "outputs": [],
   "source": [
    "random.seed(0) #reproductiviter"
   ]
  },
  {
   "cell_type": "code",
   "execution_count": 46,
   "id": "769d314b",
   "metadata": {},
   "outputs": [
    {
     "data": {
      "text/plain": [
       "0.4049341374504143"
      ]
     },
     "execution_count": 46,
     "metadata": {},
     "output_type": "execute_result"
    }
   ],
   "source": [
    "random.random() #genere float between 0 and 1"
   ]
  },
  {
   "cell_type": "code",
   "execution_count": 47,
   "id": "56d167ba",
   "metadata": {},
   "outputs": [
    {
     "data": {
      "text/plain": [
       "7"
      ]
     },
     "execution_count": 47,
     "metadata": {},
     "output_type": "execute_result"
    }
   ],
   "source": [
    "random.randint(5,10) #int entre 5 et 10"
   ]
  },
  {
   "cell_type": "code",
   "execution_count": 50,
   "id": "dccfefef",
   "metadata": {},
   "outputs": [
    {
     "data": {
      "text/plain": [
       "[32, 68, 90, 77, 18, 39, 12, 93, 9, 87]"
      ]
     },
     "execution_count": 50,
     "metadata": {},
     "output_type": "execute_result"
    }
   ],
   "source": [
    "random.sample(range(100), 10) #10 elements de 0 a 100"
   ]
  },
  {
   "cell_type": "code",
   "execution_count": 63,
   "id": "e874fa71",
   "metadata": {},
   "outputs": [
    {
     "name": "stdout",
     "output_type": "stream",
     "text": [
      "[8, 1, 1, 0, 13, 89, 2, 21, 5, 55, 34, 3]\n"
     ]
    }
   ],
   "source": [
    "print(list_1)\n",
    "random.shuffle(list_1) #melange la liste"
   ]
  },
  {
   "cell_type": "markdown",
   "id": "6f9fa12c",
   "metadata": {},
   "source": [
    "# os"
   ]
  },
  {
   "cell_type": "code",
   "execution_count": 64,
   "id": "bbd11ba7",
   "metadata": {},
   "outputs": [
    {
     "data": {
      "text/plain": [
       "'C:\\\\Users\\\\dina ouahbi\\\\OneDrive\\\\Bureau\\\\GitHub\\\\PYTHON-moduls and packages'"
      ]
     },
     "execution_count": 64,
     "metadata": {},
     "output_type": "execute_result"
    }
   ],
   "source": [
    "import os\n",
    "os.getcwd()\n",
    "#os.chdir('new directory')"
   ]
  },
  {
   "cell_type": "markdown",
   "id": "ac6e8920",
   "metadata": {},
   "source": [
    "# Glob"
   ]
  },
  {
   "cell_type": "code",
   "execution_count": 66,
   "id": "0d4fa17a",
   "metadata": {},
   "outputs": [
    {
     "data": {
      "text/plain": [
       "['modules et  packages.ipynb', 'm_1.py', '__pycache__']"
      ]
     },
     "execution_count": 66,
     "metadata": {},
     "output_type": "execute_result"
    }
   ],
   "source": [
    "import glob\n",
    "glob.glob('*')\n",
    "# '*.txt'\n"
   ]
  },
  {
   "cell_type": "code",
   "execution_count": 72,
   "id": "ee391d48",
   "metadata": {},
   "outputs": [],
   "source": [
    "f = open('test.txt', 'w')\n",
    "for i in range(100):\n",
    "    f.write('{}^3 ==> {}\\n'.format(i, i**3))\n",
    "f.close()"
   ]
  },
  {
   "cell_type": "code",
   "execution_count": 73,
   "id": "48dd4f5e",
   "metadata": {},
   "outputs": [
    {
     "data": {
      "text/plain": [
       "['modules et  packages.ipynb', 'm_1.py', 'test.txt', '__pycache__']"
      ]
     },
     "execution_count": 73,
     "metadata": {},
     "output_type": "execute_result"
    }
   ],
   "source": [
    "glob.glob('*')"
   ]
  },
  {
   "cell_type": "code",
   "execution_count": 83,
   "id": "21ff72f7",
   "metadata": {},
   "outputs": [
    {
     "name": "stdout",
     "output_type": "stream",
     "text": [
      "['0^3 ==> 0', '1^3 ==> 1', '2^3 ==> 8', '3^3 ==> 27', '4^3 ==> 64', '5^3 ==> 125', '6^3 ==> 216', '7^3 ==> 343', '8^3 ==> 512', '9^3 ==> 729', '10^3 ==> 1000', '11^3 ==> 1331', '12^3 ==> 1728', '13^3 ==> 2197', '14^3 ==> 2744', '15^3 ==> 3375', '16^3 ==> 4096', '17^3 ==> 4913', '18^3 ==> 5832', '19^3 ==> 6859', '20^3 ==> 8000', '21^3 ==> 9261', '22^3 ==> 10648', '23^3 ==> 12167', '24^3 ==> 13824', '25^3 ==> 15625', '26^3 ==> 17576', '27^3 ==> 19683', '28^3 ==> 21952', '29^3 ==> 24389', '30^3 ==> 27000', '31^3 ==> 29791', '32^3 ==> 32768', '33^3 ==> 35937', '34^3 ==> 39304', '35^3 ==> 42875', '36^3 ==> 46656', '37^3 ==> 50653', '38^3 ==> 54872', '39^3 ==> 59319', '40^3 ==> 64000', '41^3 ==> 68921', '42^3 ==> 74088', '43^3 ==> 79507', '44^3 ==> 85184', '45^3 ==> 91125', '46^3 ==> 97336', '47^3 ==> 103823', '48^3 ==> 110592', '49^3 ==> 117649', '50^3 ==> 125000', '51^3 ==> 132651', '52^3 ==> 140608', '53^3 ==> 148877', '54^3 ==> 157464', '55^3 ==> 166375', '56^3 ==> 175616', '57^3 ==> 185193', '58^3 ==> 195112', '59^3 ==> 205379', '60^3 ==> 216000', '61^3 ==> 226981', '62^3 ==> 238328', '63^3 ==> 250047', '64^3 ==> 262144', '65^3 ==> 274625', '66^3 ==> 287496', '67^3 ==> 300763', '68^3 ==> 314432', '69^3 ==> 328509', '70^3 ==> 343000', '71^3 ==> 357911', '72^3 ==> 373248', '73^3 ==> 389017', '74^3 ==> 405224', '75^3 ==> 421875', '76^3 ==> 438976', '77^3 ==> 456533', '78^3 ==> 474552', '79^3 ==> 493039', '80^3 ==> 512000', '81^3 ==> 531441', '82^3 ==> 551368', '83^3 ==> 571787', '84^3 ==> 592704', '85^3 ==> 614125', '86^3 ==> 636056', '87^3 ==> 658503', '88^3 ==> 681472', '89^3 ==> 704969', '90^3 ==> 729000', '91^3 ==> 753571', '92^3 ==> 778688', '93^3 ==> 804357', '94^3 ==> 830584', '95^3 ==> 857375', '96^3 ==> 884736', '97^3 ==> 912673', '98^3 ==> 941192', '99^3 ==> 970299']\n"
     ]
    }
   ],
   "source": [
    "f = open('test.txt', 'r')\n",
    "list_2 = f.read().splitlines()\n",
    "print(list_2)"
   ]
  },
  {
   "cell_type": "code",
   "execution_count": 82,
   "id": "017685e2",
   "metadata": {},
   "outputs": [],
   "source": [
    "f2 = open('test2.txt', 'w')\n",
    "for i in range(100):\n",
    "    f2.write('{} - hello| \\n'.format(i))\n",
    "f2.close()"
   ]
  },
  {
   "cell_type": "code",
   "execution_count": 84,
   "id": "90a7dbb8",
   "metadata": {},
   "outputs": [
    {
     "name": "stdout",
     "output_type": "stream",
     "text": [
      "['0 - hello| ', '1 - hello| ', '2 - hello| ', '3 - hello| ', '4 - hello| ', '5 - hello| ', '6 - hello| ', '7 - hello| ', '8 - hello| ', '9 - hello| ', '10 - hello| ', '11 - hello| ', '12 - hello| ', '13 - hello| ', '14 - hello| ', '15 - hello| ', '16 - hello| ', '17 - hello| ', '18 - hello| ', '19 - hello| ', '20 - hello| ', '21 - hello| ', '22 - hello| ', '23 - hello| ', '24 - hello| ', '25 - hello| ', '26 - hello| ', '27 - hello| ', '28 - hello| ', '29 - hello| ', '30 - hello| ', '31 - hello| ', '32 - hello| ', '33 - hello| ', '34 - hello| ', '35 - hello| ', '36 - hello| ', '37 - hello| ', '38 - hello| ', '39 - hello| ', '40 - hello| ', '41 - hello| ', '42 - hello| ', '43 - hello| ', '44 - hello| ', '45 - hello| ', '46 - hello| ', '47 - hello| ', '48 - hello| ', '49 - hello| ', '50 - hello| ', '51 - hello| ', '52 - hello| ', '53 - hello| ', '54 - hello| ', '55 - hello| ', '56 - hello| ', '57 - hello| ', '58 - hello| ', '59 - hello| ', '60 - hello| ', '61 - hello| ', '62 - hello| ', '63 - hello| ', '64 - hello| ', '65 - hello| ', '66 - hello| ', '67 - hello| ', '68 - hello| ', '69 - hello| ', '70 - hello| ', '71 - hello| ', '72 - hello| ', '73 - hello| ', '74 - hello| ', '75 - hello| ', '76 - hello| ', '77 - hello| ', '78 - hello| ', '79 - hello| ', '80 - hello| ', '81 - hello| ', '82 - hello| ', '83 - hello| ', '84 - hello| ', '85 - hello| ', '86 - hello| ', '87 - hello| ', '88 - hello| ', '89 - hello| ', '90 - hello| ', '91 - hello| ', '92 - hello| ', '93 - hello| ', '94 - hello| ', '95 - hello| ', '96 - hello| ', '97 - hello| ', '98 - hello| ', '99 - hello| ']\n"
     ]
    }
   ],
   "source": [
    "#stocker le fichier dans une liste\n",
    "f2 = open('test2.txt', 'r') #ouvrir\n",
    "hello_list = f2.read().splitlines() #initier la liste avec f2 et separer chaque ligne\n",
    "print(hello_list)"
   ]
  },
  {
   "cell_type": "code",
   "execution_count": 86,
   "id": "abcc3e3a",
   "metadata": {},
   "outputs": [
    {
     "name": "stdout",
     "output_type": "stream",
     "text": [
      "0^3 ==> 0\n",
      "1^3 ==> 1\n",
      "2^3 ==> 8\n",
      "3^3 ==> 27\n",
      "4^3 ==> 64\n",
      "5^3 ==> 125\n",
      "6^3 ==> 216\n",
      "7^3 ==> 343\n",
      "8^3 ==> 512\n",
      "9^3 ==> 729\n",
      "10^3 ==> 1000\n",
      "11^3 ==> 1331\n",
      "12^3 ==> 1728\n",
      "13^3 ==> 2197\n",
      "14^3 ==> 2744\n",
      "15^3 ==> 3375\n",
      "16^3 ==> 4096\n",
      "17^3 ==> 4913\n",
      "18^3 ==> 5832\n",
      "19^3 ==> 6859\n",
      "20^3 ==> 8000\n",
      "21^3 ==> 9261\n",
      "22^3 ==> 10648\n",
      "23^3 ==> 12167\n",
      "24^3 ==> 13824\n",
      "25^3 ==> 15625\n",
      "26^3 ==> 17576\n",
      "27^3 ==> 19683\n",
      "28^3 ==> 21952\n",
      "29^3 ==> 24389\n",
      "30^3 ==> 27000\n",
      "31^3 ==> 29791\n",
      "32^3 ==> 32768\n",
      "33^3 ==> 35937\n",
      "34^3 ==> 39304\n",
      "35^3 ==> 42875\n",
      "36^3 ==> 46656\n",
      "37^3 ==> 50653\n",
      "38^3 ==> 54872\n",
      "39^3 ==> 59319\n",
      "40^3 ==> 64000\n",
      "41^3 ==> 68921\n",
      "42^3 ==> 74088\n",
      "43^3 ==> 79507\n",
      "44^3 ==> 85184\n",
      "45^3 ==> 91125\n",
      "46^3 ==> 97336\n",
      "47^3 ==> 103823\n",
      "48^3 ==> 110592\n",
      "49^3 ==> 117649\n",
      "50^3 ==> 125000\n",
      "51^3 ==> 132651\n",
      "52^3 ==> 140608\n",
      "53^3 ==> 148877\n",
      "54^3 ==> 157464\n",
      "55^3 ==> 166375\n",
      "56^3 ==> 175616\n",
      "57^3 ==> 185193\n",
      "58^3 ==> 195112\n",
      "59^3 ==> 205379\n",
      "60^3 ==> 216000\n",
      "61^3 ==> 226981\n",
      "62^3 ==> 238328\n",
      "63^3 ==> 250047\n",
      "64^3 ==> 262144\n",
      "65^3 ==> 274625\n",
      "66^3 ==> 287496\n",
      "67^3 ==> 300763\n",
      "68^3 ==> 314432\n",
      "69^3 ==> 328509\n",
      "70^3 ==> 343000\n",
      "71^3 ==> 357911\n",
      "72^3 ==> 373248\n",
      "73^3 ==> 389017\n",
      "74^3 ==> 405224\n",
      "75^3 ==> 421875\n",
      "76^3 ==> 438976\n",
      "77^3 ==> 456533\n",
      "78^3 ==> 474552\n",
      "79^3 ==> 493039\n",
      "80^3 ==> 512000\n",
      "81^3 ==> 531441\n",
      "82^3 ==> 551368\n",
      "83^3 ==> 571787\n",
      "84^3 ==> 592704\n",
      "85^3 ==> 614125\n",
      "86^3 ==> 636056\n",
      "87^3 ==> 658503\n",
      "88^3 ==> 681472\n",
      "89^3 ==> 704969\n",
      "90^3 ==> 729000\n",
      "91^3 ==> 753571\n",
      "92^3 ==> 778688\n",
      "93^3 ==> 804357\n",
      "94^3 ==> 830584\n",
      "95^3 ==> 857375\n",
      "96^3 ==> 884736\n",
      "97^3 ==> 912673\n",
      "98^3 ==> 941192\n",
      "99^3 ==> 970299\n",
      "\n",
      "0 - hello| \n",
      "1 - hello| \n",
      "2 - hello| \n",
      "3 - hello| \n",
      "4 - hello| \n",
      "5 - hello| \n",
      "6 - hello| \n",
      "7 - hello| \n",
      "8 - hello| \n",
      "9 - hello| \n",
      "10 - hello| \n",
      "11 - hello| \n",
      "12 - hello| \n",
      "13 - hello| \n",
      "14 - hello| \n",
      "15 - hello| \n",
      "16 - hello| \n",
      "17 - hello| \n",
      "18 - hello| \n",
      "19 - hello| \n",
      "20 - hello| \n",
      "21 - hello| \n",
      "22 - hello| \n",
      "23 - hello| \n",
      "24 - hello| \n",
      "25 - hello| \n",
      "26 - hello| \n",
      "27 - hello| \n",
      "28 - hello| \n",
      "29 - hello| \n",
      "30 - hello| \n",
      "31 - hello| \n",
      "32 - hello| \n",
      "33 - hello| \n",
      "34 - hello| \n",
      "35 - hello| \n",
      "36 - hello| \n",
      "37 - hello| \n",
      "38 - hello| \n",
      "39 - hello| \n",
      "40 - hello| \n",
      "41 - hello| \n",
      "42 - hello| \n",
      "43 - hello| \n",
      "44 - hello| \n",
      "45 - hello| \n",
      "46 - hello| \n",
      "47 - hello| \n",
      "48 - hello| \n",
      "49 - hello| \n",
      "50 - hello| \n",
      "51 - hello| \n",
      "52 - hello| \n",
      "53 - hello| \n",
      "54 - hello| \n",
      "55 - hello| \n",
      "56 - hello| \n",
      "57 - hello| \n",
      "58 - hello| \n",
      "59 - hello| \n",
      "60 - hello| \n",
      "61 - hello| \n",
      "62 - hello| \n",
      "63 - hello| \n",
      "64 - hello| \n",
      "65 - hello| \n",
      "66 - hello| \n",
      "67 - hello| \n",
      "68 - hello| \n",
      "69 - hello| \n",
      "70 - hello| \n",
      "71 - hello| \n",
      "72 - hello| \n",
      "73 - hello| \n",
      "74 - hello| \n",
      "75 - hello| \n",
      "76 - hello| \n",
      "77 - hello| \n",
      "78 - hello| \n",
      "79 - hello| \n",
      "80 - hello| \n",
      "81 - hello| \n",
      "82 - hello| \n",
      "83 - hello| \n",
      "84 - hello| \n",
      "85 - hello| \n",
      "86 - hello| \n",
      "87 - hello| \n",
      "88 - hello| \n",
      "89 - hello| \n",
      "90 - hello| \n",
      "91 - hello| \n",
      "92 - hello| \n",
      "93 - hello| \n",
      "94 - hello| \n",
      "95 - hello| \n",
      "96 - hello| \n",
      "97 - hello| \n",
      "98 - hello| \n",
      "99 - hello| \n",
      "\n"
     ]
    }
   ],
   "source": [
    "#lire tous les fichier txt de notre repertoire de travail \n",
    "filenames = glob.glob('*.txt') \n",
    "\n",
    "for file in filenames:\n",
    "    f = open(file, 'r')\n",
    "    print(f.read())"
   ]
  },
  {
   "cell_type": "code",
   "execution_count": 87,
   "id": "5d0c65e3",
   "metadata": {},
   "outputs": [],
   "source": [
    "# stocker les fichier dans un dictionnaire\n",
    "filenames = glob.glob('*.txt')\n",
    "d = {}\n",
    "for file in filenames:\n",
    "    f = open(file, 'r')\n",
    "    d[file] = f.read().splitlines()"
   ]
  },
  {
   "cell_type": "code",
   "execution_count": 90,
   "id": "59966bc2",
   "metadata": {},
   "outputs": [
    {
     "data": {
      "text/plain": [
       "dict_keys(['test.txt', 'test2.txt'])"
      ]
     },
     "execution_count": 90,
     "metadata": {},
     "output_type": "execute_result"
    }
   ],
   "source": [
    "d.keys()"
   ]
  },
  {
   "cell_type": "code",
   "execution_count": 91,
   "id": "f2dfd1ea",
   "metadata": {},
   "outputs": [
    {
     "data": {
      "text/plain": [
       "dict_values([['0^3 ==> 0', '1^3 ==> 1', '2^3 ==> 8', '3^3 ==> 27', '4^3 ==> 64', '5^3 ==> 125', '6^3 ==> 216', '7^3 ==> 343', '8^3 ==> 512', '9^3 ==> 729', '10^3 ==> 1000', '11^3 ==> 1331', '12^3 ==> 1728', '13^3 ==> 2197', '14^3 ==> 2744', '15^3 ==> 3375', '16^3 ==> 4096', '17^3 ==> 4913', '18^3 ==> 5832', '19^3 ==> 6859', '20^3 ==> 8000', '21^3 ==> 9261', '22^3 ==> 10648', '23^3 ==> 12167', '24^3 ==> 13824', '25^3 ==> 15625', '26^3 ==> 17576', '27^3 ==> 19683', '28^3 ==> 21952', '29^3 ==> 24389', '30^3 ==> 27000', '31^3 ==> 29791', '32^3 ==> 32768', '33^3 ==> 35937', '34^3 ==> 39304', '35^3 ==> 42875', '36^3 ==> 46656', '37^3 ==> 50653', '38^3 ==> 54872', '39^3 ==> 59319', '40^3 ==> 64000', '41^3 ==> 68921', '42^3 ==> 74088', '43^3 ==> 79507', '44^3 ==> 85184', '45^3 ==> 91125', '46^3 ==> 97336', '47^3 ==> 103823', '48^3 ==> 110592', '49^3 ==> 117649', '50^3 ==> 125000', '51^3 ==> 132651', '52^3 ==> 140608', '53^3 ==> 148877', '54^3 ==> 157464', '55^3 ==> 166375', '56^3 ==> 175616', '57^3 ==> 185193', '58^3 ==> 195112', '59^3 ==> 205379', '60^3 ==> 216000', '61^3 ==> 226981', '62^3 ==> 238328', '63^3 ==> 250047', '64^3 ==> 262144', '65^3 ==> 274625', '66^3 ==> 287496', '67^3 ==> 300763', '68^3 ==> 314432', '69^3 ==> 328509', '70^3 ==> 343000', '71^3 ==> 357911', '72^3 ==> 373248', '73^3 ==> 389017', '74^3 ==> 405224', '75^3 ==> 421875', '76^3 ==> 438976', '77^3 ==> 456533', '78^3 ==> 474552', '79^3 ==> 493039', '80^3 ==> 512000', '81^3 ==> 531441', '82^3 ==> 551368', '83^3 ==> 571787', '84^3 ==> 592704', '85^3 ==> 614125', '86^3 ==> 636056', '87^3 ==> 658503', '88^3 ==> 681472', '89^3 ==> 704969', '90^3 ==> 729000', '91^3 ==> 753571', '92^3 ==> 778688', '93^3 ==> 804357', '94^3 ==> 830584', '95^3 ==> 857375', '96^3 ==> 884736', '97^3 ==> 912673', '98^3 ==> 941192', '99^3 ==> 970299'], ['0 - hello| ', '1 - hello| ', '2 - hello| ', '3 - hello| ', '4 - hello| ', '5 - hello| ', '6 - hello| ', '7 - hello| ', '8 - hello| ', '9 - hello| ', '10 - hello| ', '11 - hello| ', '12 - hello| ', '13 - hello| ', '14 - hello| ', '15 - hello| ', '16 - hello| ', '17 - hello| ', '18 - hello| ', '19 - hello| ', '20 - hello| ', '21 - hello| ', '22 - hello| ', '23 - hello| ', '24 - hello| ', '25 - hello| ', '26 - hello| ', '27 - hello| ', '28 - hello| ', '29 - hello| ', '30 - hello| ', '31 - hello| ', '32 - hello| ', '33 - hello| ', '34 - hello| ', '35 - hello| ', '36 - hello| ', '37 - hello| ', '38 - hello| ', '39 - hello| ', '40 - hello| ', '41 - hello| ', '42 - hello| ', '43 - hello| ', '44 - hello| ', '45 - hello| ', '46 - hello| ', '47 - hello| ', '48 - hello| ', '49 - hello| ', '50 - hello| ', '51 - hello| ', '52 - hello| ', '53 - hello| ', '54 - hello| ', '55 - hello| ', '56 - hello| ', '57 - hello| ', '58 - hello| ', '59 - hello| ', '60 - hello| ', '61 - hello| ', '62 - hello| ', '63 - hello| ', '64 - hello| ', '65 - hello| ', '66 - hello| ', '67 - hello| ', '68 - hello| ', '69 - hello| ', '70 - hello| ', '71 - hello| ', '72 - hello| ', '73 - hello| ', '74 - hello| ', '75 - hello| ', '76 - hello| ', '77 - hello| ', '78 - hello| ', '79 - hello| ', '80 - hello| ', '81 - hello| ', '82 - hello| ', '83 - hello| ', '84 - hello| ', '85 - hello| ', '86 - hello| ', '87 - hello| ', '88 - hello| ', '89 - hello| ', '90 - hello| ', '91 - hello| ', '92 - hello| ', '93 - hello| ', '94 - hello| ', '95 - hello| ', '96 - hello| ', '97 - hello| ', '98 - hello| ', '99 - hello| ']])"
      ]
     },
     "execution_count": 91,
     "metadata": {},
     "output_type": "execute_result"
    }
   ],
   "source": [
    "d.values()"
   ]
  },
  {
   "cell_type": "code",
   "execution_count": null,
   "id": "7116460f",
   "metadata": {},
   "outputs": [],
   "source": []
  }
 ],
 "metadata": {
  "kernelspec": {
   "display_name": "Python 3",
   "language": "python",
   "name": "python3"
  },
  "language_info": {
   "codemirror_mode": {
    "name": "ipython",
    "version": 3
   },
   "file_extension": ".py",
   "mimetype": "text/x-python",
   "name": "python",
   "nbconvert_exporter": "python",
   "pygments_lexer": "ipython3",
   "version": "3.8.8"
  }
 },
 "nbformat": 4,
 "nbformat_minor": 5
}
