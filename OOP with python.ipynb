{
 "cells": [
  {
   "cell_type": "markdown",
   "id": "c2e31442",
   "metadata": {},
   "source": [
    "\n",
    "- In oop: everything is an object\n",
    "- All objects have attributes and perform actions.\n",
    "- Actions are called \"methods.\"\n",
    "\n",
    "\n",
    "- Notion of class = object design plan, allows to build different objects of the same class\n",
    "\n",
    "\n",
    "Example: \n",
    "- ndarray : (imported from numpy)\n",
    "     - objet = table \n",
    "     - attributs =  size...\n",
    "     - methodes : sort, sum ...\n",
    "     \n"
   ]
  },
  {
   "cell_type": "code",
   "execution_count": 3,
   "id": "03ba4357",
   "metadata": {},
   "outputs": [],
   "source": [
    "import numpy as np\n",
    "tab = np.array([[1,2,3,4,5],[1,2,3,4,5]])"
   ]
  },
  {
   "cell_type": "code",
   "execution_count": 11,
   "id": "542954de",
   "metadata": {},
   "outputs": [
    {
     "name": "stdout",
     "output_type": "stream",
     "text": [
      "10\n",
      "[ 1  3  6 10 15 16 18 21 25 30]\n"
     ]
    }
   ],
   "source": [
    "#attribute size\n",
    "print(tab.size)\n",
    "\n",
    "#methods\n",
    "print(tab.cumsum())"
   ]
  },
  {
   "cell_type": "code",
   "execution_count": 8,
   "id": "903678d8",
   "metadata": {},
   "outputs": [
    {
     "name": "stdout",
     "output_type": "stream",
     "text": [
      "<class 'int'>\n"
     ]
    }
   ],
   "source": [
    "# means that x belongs to class integer\n",
    "x = 1\n",
    "print(type(x))"
   ]
  },
  {
   "cell_type": "markdown",
   "id": "66128ce8",
   "metadata": {},
   "source": [
    "# Example"
   ]
  },
  {
   "cell_type": "code",
   "execution_count": null,
   "id": "faa53758",
   "metadata": {},
   "outputs": [],
   "source": [
    "# create class \n",
    "class Player:\n",
    "    def __init__(self, pseudo, health, attack):\n",
    "        self.pseudo = pseudo\n",
    "        self.health = health\n",
    "        self.attack = attack\n",
    "        print(\"Joueur ==> {} \\n Vies ==> {} \\n Attack ==> {} \\n \".format(pseudo, health, attack))\n",
    "        \n",
    "   \n",
    "    \n",
    "#new instance    \n",
    "player1 = Player(\"toto\", 23, 7) \n",
    "player2 = Player(\"tata\", 26, 6) \n",
    "\n",
    "        "
   ]
  },
  {
   "cell_type": "code",
   "execution_count": 24,
   "id": "7c039067",
   "metadata": {},
   "outputs": [],
   "source": [
    "# DEFINE getters (to get the information about object) \n",
    "# self is current object (player1, player2 ...)\n",
    "def get_pseudo(self):\n",
    "    return self.pseudo\n",
    "\n",
    "def get_health(self):\n",
    "    return self.health\n",
    "\n",
    "def get_attack(self):\n",
    "    return self.attack"
   ]
  },
  {
   "cell_type": "code",
   "execution_count": 25,
   "id": "ee00ec95",
   "metadata": {},
   "outputs": [
    {
     "name": "stdout",
     "output_type": "stream",
     "text": [
      "toto\n",
      "23\n",
      "7\n"
     ]
    }
   ],
   "source": [
    "print(get_pseudo(player1))\n",
    "print(get_health(player1))\n",
    "print(get_attack(player1))"
   ]
  },
  {
   "cell_type": "code",
   "execution_count": null,
   "id": "33809b0c",
   "metadata": {},
   "outputs": [],
   "source": []
  }
 ],
 "metadata": {
  "kernelspec": {
   "display_name": "Python 3",
   "language": "python",
   "name": "python3"
  },
  "language_info": {
   "codemirror_mode": {
    "name": "ipython",
    "version": 3
   },
   "file_extension": ".py",
   "mimetype": "text/x-python",
   "name": "python",
   "nbconvert_exporter": "python",
   "pygments_lexer": "ipython3",
   "version": "3.8.8"
  }
 },
 "nbformat": 4,
 "nbformat_minor": 5
}
